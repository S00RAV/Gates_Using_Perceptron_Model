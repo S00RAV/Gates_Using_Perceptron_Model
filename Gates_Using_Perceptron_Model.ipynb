{
  "nbformat": 4,
  "nbformat_minor": 0,
  "metadata": {
    "colab": {
      "name": "8_Gates_Using _Perceptron_Model.ipynb",
      "provenance": [],
      "collapsed_sections": []
    },
    "kernelspec": {
      "name": "python3",
      "display_name": "Python 3"
    }
  },
  "cells": [
    {
      "cell_type": "markdown",
      "metadata": {
        "id": "Wzb_LHD8eWqN"
      },
      "source": [
        "# Perceptron Model\n",
        "Perceptron model has an accumulator "
      ]
    },
    {
      "cell_type": "code",
      "metadata": {
        "id": "AlcG3OXSgeW1"
      },
      "source": [
        "import numpy as np\n",
        "import matplotlib.pyplot as plt\n",
        "import tqdm"
      ],
      "execution_count": 1,
      "outputs": []
    },
    {
      "cell_type": "code",
      "metadata": {
        "id": "WcMJEtBEgt_n"
      },
      "source": [
        "# Transfer/Activation Functions\n",
        "def step(x):\n",
        "  return x >= 0"
      ],
      "execution_count": 2,
      "outputs": []
    },
    {
      "cell_type": "code",
      "metadata": {
        "id": "PbfTaQUhgNLo"
      },
      "source": [
        "class Perceptron:\n",
        "  def __init__(self,features=1, alpha=0.1, bias=np.random.normal(loc=0.0,scale=0.01), weights=None, activation=step):\n",
        "    if weights is None:\n",
        "      self.weights=np.random.normal(loc=0.0, scale=0.01, size=features).transpose()\n",
        "    else: self.weights = weights \n",
        "    self.activation = activation\n",
        "    self.alpha = alpha\n",
        "    self.bias=bias\n",
        "    self.features = features\n",
        "\n",
        "  def __predict(self, inputn): # Private Function\n",
        "    # implement prediction of 1 instance\n",
        "    if self.features is 1:\n",
        "      return self.activation(self.weights*inputn + self.bias)[0]\n",
        "    else:\n",
        "     return self.activation(self.weights.dot(inputn.transpose()) + self.bias)\n",
        "    \n",
        "      \n",
        "      \n",
        "  def cost(self, inputn, outputn ):\n",
        "    # Implement the cost function\n",
        "    return self.__predict(inputn) - outputn\n",
        "  \n",
        "\n",
        "  def predict(self, inputs):\n",
        "      if self.features is 1:\n",
        "        return self.activation(self.weights*(inputs) + self.bias)\n",
        "      else:\n",
        "        return self.activation(self.weights.dot(inputs.transpose()) + self.bias)\n",
        "      \n",
        "        \n",
        "  \n",
        "\n",
        "  def train(self, inputs, outputs, epochs=1):   \n",
        "    t = tqdm.tqdm(range(epochs))\n",
        "    for epoch in t:\n",
        "      for i, inputn in enumerate(inputs):\n",
        "        delta = self.__predict(inputn) - outputs[i]\n",
        "        t.set_postfix({\"loss\": delta})\n",
        "        #print(delta, inputn, outputs[i], self.weights, self.bias)\n",
        "        self.weight_update(delta, inputn)\n",
        "\n",
        "  \n",
        "  def weight_update(self, delta, inputs):\n",
        "      self.weights = self.weights - self.alpha*delta*(inputs)\n",
        "      self.bias = self.bias - self.alpha*delta\n",
        "      #print(self.weights, self.bias)\n"
      ],
      "execution_count": 3,
      "outputs": []
    },
    {
      "cell_type": "markdown",
      "metadata": {
        "id": "ierzEGp09t2z"
      },
      "source": [
        "## And Gate"
      ]
    },
    {
      "cell_type": "code",
      "metadata": {
        "id": "uKQVtAkRg0AW"
      },
      "source": [
        "perceptron=Perceptron(features=2) # Single Perceptron"
      ],
      "execution_count": 4,
      "outputs": []
    },
    {
      "cell_type": "code",
      "metadata": {
        "id": "K_3R9zjhpQ5v"
      },
      "source": [
        "# Input output for AND Gate\n",
        "X = np.array([[0,0],\n",
        "              [0,1],\n",
        "              [1,0],\n",
        "              [1,1]\n",
        "              ])\n",
        "Y = np.array([0,\n",
        "              0,\n",
        "              0,\n",
        "              1\n",
        "              ])"
      ],
      "execution_count": 5,
      "outputs": []
    },
    {
      "cell_type": "markdown",
      "metadata": {
        "id": "XxDe1cyA9BPb"
      },
      "source": [
        "### Before Training"
      ]
    },
    {
      "cell_type": "code",
      "metadata": {
        "id": "NVN5_4I0Z538",
        "colab": {
          "base_uri": "https://localhost:8080/",
          "height": 269
        },
        "outputId": "eab29bb6-c62b-4260-d96a-1ab15363d12c"
      },
      "source": [
        "x=np.linspace(-0.5, 1.5, 200)\n",
        "\n",
        "xx, yy = np.meshgrid(x, x)\n",
        "Z = perceptron.predict(np.array([xx.ravel(),yy.ravel()]).T)\n",
        "\n",
        "plt.contourf(xx, yy, Z.reshape(xx.shape), levels=1)\n",
        "plt.scatter(X[:,0],X[:,1])\n",
        "plt.xlim([-0.5,1.5])\n",
        "plt.ylim([-0.5,1.5])\n",
        "plt.colorbar();"
      ],
      "execution_count": 7,
      "outputs": [
        {
          "output_type": "display_data",
          "data": {
            "image/png": "[encoded data removed]",
            "text/plain": [
              "<Figure size 432x288 with 2 Axes>"
            ]
          },
          "metadata": {
            "tags": [],
            "needs_background": "light"
          }
        }
      ]
    },
    {
      "cell_type": "code",
      "metadata": {
        "id": "l4gm-YHIKJPV",
        "colab": {
          "base_uri": "https://localhost:8080/"
        },
        "outputId": "4d7f3f5f-7daa-4282-cb8d-26f14cac4837"
      },
      "source": [
        "perceptron.predict(X)"
      ],
      "execution_count": 8,
      "outputs": [
        {
          "output_type": "execute_result",
          "data": {
            "text/plain": [
              "array([False,  True,  True,  True])"
            ]
          },
          "metadata": {
            "tags": []
          },
          "execution_count": 8
        }
      ]
    },
    {
      "cell_type": "markdown",
      "metadata": {
        "id": "Pt8nQoMx-EX1"
      },
      "source": [
        "### Training"
      ]
    },
    {
      "cell_type": "code",
      "metadata": {
        "colab": {
          "base_uri": "https://localhost:8080/"
        },
        "id": "s7BZUaTCpvlJ",
        "outputId": "ba1e2810-1efd-49ca-89aa-fdc868de81d2"
      },
      "source": [
        "perceptron.train(X,Y,epochs=20)"
      ],
      "execution_count": 9,
      "outputs": [
        {
          "output_type": "stream",
          "text": [
            "100%|██████████| 20/20 [00:00<00:00, 242.15it/s, loss=0]\n"
          ],
          "name": "stderr"
        }
      ]
    },
    {
      "cell_type": "markdown",
      "metadata": {
        "id": "mEDclz7y9ktV"
      },
      "source": [
        "### After Training"
      ]
    },
    {
      "cell_type": "code",
      "metadata": {
        "colab": {
          "base_uri": "https://localhost:8080/",
          "height": 269
        },
        "id": "x90gpFrqtMqV",
        "outputId": "d1fc5a3a-cba9-4efe-e916-db9c2ed1be66"
      },
      "source": [
        "x=np.linspace(-0.5, 1.5, 200)\n",
        "\n",
        "xx, yy = np.meshgrid(x, x)\n",
        "Z = perceptron.predict(np.array([xx.ravel(),yy.ravel()]).T)\n",
        "\n",
        "plt.contourf(xx, yy, Z.reshape(xx.shape), levels=1)\n",
        "plt.scatter(X[:,0],X[:,1])\n",
        "plt.xlim([-0.5,1.5])\n",
        "plt.ylim([-0.5,1.5])\n",
        "plt.colorbar();"
      ],
      "execution_count": 12,
      "outputs": [
        {
          "output_type": "display_data",
          "data": {
            "image/png": "[encoded data removed]",
            "text/plain": [
              "<Figure size 432x288 with 2 Axes>"
            ]
          },
          "metadata": {
            "tags": [],
            "needs_background": "light"
          }
        }
      ]
    },
    {
      "cell_type": "code",
      "metadata": {
        "id": "FomwfvF_yR5U",
        "colab": {
          "base_uri": "https://localhost:8080/"
        },
        "outputId": "50cebf7e-6976-4fca-b522-6293885e06c5"
      },
      "source": [
        "perceptron.predict(X)"
      ],
      "execution_count": 13,
      "outputs": [
        {
          "output_type": "execute_result",
          "data": {
            "text/plain": [
              "array([False, False, False,  True])"
            ]
          },
          "metadata": {
            "tags": []
          },
          "execution_count": 13
        }
      ]
    },
    {
      "cell_type": "markdown",
      "metadata": {
        "id": "c_NyvaLj90tQ"
      },
      "source": [
        "## Or Gate"
      ]
    },
    {
      "cell_type": "code",
      "metadata": {
        "id": "gzgPtyRM-XKq"
      },
      "source": [
        "# Input output for AND Gate\n",
        "X = np.array([[0,0],\n",
        "              [0,1],\n",
        "              [1,0],\n",
        "              [1,1]\n",
        "              ])\n",
        "Y = np.array([1,\n",
        "              1,\n",
        "              1,\n",
        "              0\n",
        "              ])"
      ],
      "execution_count": 15,
      "outputs": []
    },
    {
      "cell_type": "code",
      "metadata": {
        "id": "92BKWY8E-Y9x"
      },
      "source": [
        "perceptron=Perceptron(features=2)"
      ],
      "execution_count": 16,
      "outputs": []
    },
    {
      "cell_type": "markdown",
      "metadata": {
        "id": "RHiFli-m-6z1"
      },
      "source": [
        "### Before Training\n"
      ]
    },
    {
      "cell_type": "code",
      "metadata": {
        "colab": {
          "base_uri": "https://localhost:8080/",
          "height": 269
        },
        "id": "OHrpEZVC_6Rk",
        "outputId": "d5286a08-8bd2-4424-ef96-655fe82d87bd"
      },
      "source": [
        "x=np.linspace(-0.5, 1.5, 200)\n",
        "\n",
        "xx, yy = np.meshgrid(x, x)\n",
        "Z = perceptron.predict(np.array([xx.ravel(),yy.ravel()]).T)\n",
        "\n",
        "plt.contourf(xx, yy, Z.reshape(xx.shape), levels=1)\n",
        "plt.scatter(X[:,0],X[:,1])\n",
        "plt.xlim([-0.5,1.5])\n",
        "plt.ylim([-0.5,1.5])\n",
        "plt.colorbar();"
      ],
      "execution_count": 17,
      "outputs": [
        {
          "output_type": "display_data",
          "data": {
            "image/png": "[encoded data removed]",
            "text/plain": [
              "<Figure size 432x288 with 2 Axes>"
            ]
          },
          "metadata": {
            "tags": [],
            "needs_background": "light"
          }
        }
      ]
    },
    {
      "cell_type": "code",
      "metadata": {
        "id": "T36D1HECfjHt",
        "colab": {
          "base_uri": "https://localhost:8080/"
        },
        "outputId": "6d01e327-f4e8-4a3b-d93a-efb4c4e1b640"
      },
      "source": [
        "perceptron.predict(X)"
      ],
      "execution_count": 18,
      "outputs": [
        {
          "output_type": "execute_result",
          "data": {
            "text/plain": [
              "array([False, False, False, False])"
            ]
          },
          "metadata": {
            "tags": []
          },
          "execution_count": 18
        }
      ]
    },
    {
      "cell_type": "markdown",
      "metadata": {
        "id": "_Z-bozUgAFhP"
      },
      "source": [
        "### Training"
      ]
    },
    {
      "cell_type": "code",
      "metadata": {
        "colab": {
          "base_uri": "https://localhost:8080/"
        },
        "id": "-qBQSkzx_9gF",
        "outputId": "43d5536c-4f2a-46fc-a641-c93035b76365"
      },
      "source": [
        "perceptron.train(X,Y,epochs=20)"
      ],
      "execution_count": 19,
      "outputs": [
        {
          "output_type": "stream",
          "text": [
            "100%|██████████| 20/20 [00:00<00:00, 253.55it/s, loss=0]\n"
          ],
          "name": "stderr"
        }
      ]
    },
    {
      "cell_type": "markdown",
      "metadata": {
        "id": "36WLafp6AEyC"
      },
      "source": [
        "### After Training"
      ]
    },
    {
      "cell_type": "code",
      "metadata": {
        "colab": {
          "base_uri": "https://localhost:8080/",
          "height": 269
        },
        "id": "VYt9nBmlAJyi",
        "outputId": "8cb9ebc6-fa2f-4303-94fb-c8343e2e49e4"
      },
      "source": [
        "x=np.linspace(-0.5, 1.5, 200)\n",
        "\n",
        "xx, yy = np.meshgrid(x, x)\n",
        "Z = perceptron.predict(np.array([xx.ravel(),yy.ravel()]).T)\n",
        "\n",
        "plt.contourf(xx, yy, Z.reshape(xx.shape), levels=1)\n",
        "plt.scatter(X[:,0],X[:,1])\n",
        "plt.xlim([-0.5,1.5])\n",
        "plt.ylim([-0.5,1.5])\n",
        "plt.colorbar();"
      ],
      "execution_count": 21,
      "outputs": [
        {
          "output_type": "display_data",
          "data": {
            "image/png": "[encoded data removed]",
            "text/plain": [
              "<Figure size 432x288 with 2 Axes>"
            ]
          },
          "metadata": {
            "tags": [],
            "needs_background": "light"
          }
        }
      ]
    },
    {
      "cell_type": "code",
      "metadata": {
        "id": "XzvoiDp_J_pP",
        "colab": {
          "base_uri": "https://localhost:8080/"
        },
        "outputId": "6c9f9d5d-5c86-49f2-b223-5eb9068d2793"
      },
      "source": [
        "perceptron.predict(X)"
      ],
      "execution_count": 23,
      "outputs": [
        {
          "output_type": "execute_result",
          "data": {
            "text/plain": [
              "array([ True,  True,  True, False])"
            ]
          },
          "metadata": {
            "tags": []
          },
          "execution_count": 23
        }
      ]
    },
    {
      "cell_type": "code",
      "metadata": {
        "id": "pJnhrUMFeph5"
      },
      "source": [
        ""
      ],
      "execution_count": null,
      "outputs": []
    }
  ]
}